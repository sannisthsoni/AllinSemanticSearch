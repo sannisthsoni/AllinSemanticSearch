{
 "cells": [
  {
   "cell_type": "code",
   "execution_count": 1,
   "id": "5ab95082-0a50-4294-9c6a-a6c6ece8e5c5",
   "metadata": {},
   "outputs": [],
   "source": [
    "import os\n",
    "from glob import glob\n",
    "\n",
    "from bs4 import BeautifulSoup\n",
    "from tqdm import tqdm"
   ]
  },
  {
   "cell_type": "code",
   "execution_count": 2,
   "id": "7350a186-6b61-4cbb-b812-2f57500a59ff",
   "metadata": {},
   "outputs": [],
   "source": [
    "import pandas as pd\n",
    "import re"
   ]
  },
  {
   "cell_type": "code",
   "execution_count": 3,
   "id": "9021f08f-117a-44d0-9538-a2d799d6d976",
   "metadata": {},
   "outputs": [
    {
     "data": {
      "text/plain": [
       "107"
      ]
     },
     "execution_count": 3,
     "metadata": {},
     "output_type": "execute_result"
    }
   ],
   "source": [
    "data_path = '../Allin/data/*'\n",
    "html_files = glob(data_path)\n",
    "len(html_files)"
   ]
  },
  {
   "cell_type": "code",
   "execution_count": 4,
   "id": "5a872f12-a2e4-44fb-b9cc-363cc899a91f",
   "metadata": {},
   "outputs": [
    {
     "data": {
      "text/plain": [
       "'../Allin/data/E84_ Markets update, crypto collapse, Russia_Ukraine endgame, state of the podcast - Transcripts.html'"
      ]
     },
     "execution_count": 4,
     "metadata": {},
     "output_type": "execute_result"
    }
   ],
   "source": [
    "html_files[0]"
   ]
  },
  {
   "cell_type": "code",
   "execution_count": 5,
   "id": "df608b20-1ba5-438e-9e26-b45d3d7f00b9",
   "metadata": {},
   "outputs": [
    {
     "name": "stderr",
     "output_type": "stream",
     "text": [
      "100%|█████████████████████████████████████████| 107/107 [00:59<00:00,  1.81it/s]\n"
     ]
    }
   ],
   "source": [
    "arr = []\n",
    "for file in tqdm(html_files):\n",
    "    soup = BeautifulSoup(open(file,'r'), 'html.parser')\n",
    "    \n",
    "    speaker = []\n",
    "    text = []\n",
    "    timestamp = []\n",
    "    episode = []\n",
    "\n",
    "    for each in soup.find_all('div',attrs={'class':\"transcript is-main\"}):\n",
    "        speaker.append(each.find('li', attrs={'class':'speaker'}).text)\n",
    "        text.append(each.find('mark').text)\n",
    "        timestamp.append(each.find('li', attrs={'class':'tg-caption', 'id':'playTranscript'}).text)\n",
    "        episode.append(file)\n",
    "    \n",
    "\n",
    "    arr.append(pd.DataFrame({\n",
    "            'time' : timestamp,\n",
    "            'text' : text,\n",
    "            'speaker' : speaker,\n",
    "            'episode' : episode\n",
    "        }))"
   ]
  },
  {
   "cell_type": "code",
   "execution_count": 6,
   "id": "e6fc709d-8a50-4e15-9553-f51f6e6f7beb",
   "metadata": {},
   "outputs": [
    {
     "data": {
      "text/html": [
       "<div>\n",
       "<style scoped>\n",
       "    .dataframe tbody tr th:only-of-type {\n",
       "        vertical-align: middle;\n",
       "    }\n",
       "\n",
       "    .dataframe tbody tr th {\n",
       "        vertical-align: top;\n",
       "    }\n",
       "\n",
       "    .dataframe thead th {\n",
       "        text-align: right;\n",
       "    }\n",
       "</style>\n",
       "<table border=\"1\" class=\"dataframe\">\n",
       "  <thead>\n",
       "    <tr style=\"text-align: right;\">\n",
       "      <th></th>\n",
       "      <th>time</th>\n",
       "      <th>text</th>\n",
       "      <th>speaker</th>\n",
       "      <th>episode</th>\n",
       "    </tr>\n",
       "  </thead>\n",
       "  <tbody>\n",
       "    <tr>\n",
       "      <th>26890</th>\n",
       "      <td>00:00:00</td>\n",
       "      <td>Hey everybody, welcome to the first episode of</td>\n",
       "      <td>Speaker 2</td>\n",
       "      <td>0.0</td>\n",
       "    </tr>\n",
       "    <tr>\n",
       "      <th>26891</th>\n",
       "      <td>00:00:03</td>\n",
       "      <td>the all in podcast</td>\n",
       "      <td>Speaker 1</td>\n",
       "      <td>0.0</td>\n",
       "    </tr>\n",
       "    <tr>\n",
       "      <th>26892</th>\n",
       "      <td>00:00:04</td>\n",
       "      <td>with college and Jason Calacanis, that</td>\n",
       "      <td>Speaker 2</td>\n",
       "      <td>0.0</td>\n",
       "    </tr>\n",
       "    <tr>\n",
       "      <th>26893</th>\n",
       "      <td>00:00:09</td>\n",
       "      <td>calculator where we're trying to save ourselve...</td>\n",
       "      <td>Speaker 1</td>\n",
       "      <td>0.0</td>\n",
       "    </tr>\n",
       "    <tr>\n",
       "      <th>26894</th>\n",
       "      <td>00:00:15</td>\n",
       "      <td>It is literally, you know, we thought we'd sta...</td>\n",
       "      <td>Speaker 2</td>\n",
       "      <td>0.0</td>\n",
       "    </tr>\n",
       "    <tr>\n",
       "      <th>...</th>\n",
       "      <td>...</td>\n",
       "      <td>...</td>\n",
       "      <td>...</td>\n",
       "      <td>...</td>\n",
       "    </tr>\n",
       "    <tr>\n",
       "      <th>15498</th>\n",
       "      <td>01:46:40</td>\n",
       "      <td>gonna be fun. I am the world's greatest modera...</td>\n",
       "      <td>Speaker 2</td>\n",
       "      <td>105.0</td>\n",
       "    </tr>\n",
       "    <tr>\n",
       "      <th>15499</th>\n",
       "      <td>01:46:49</td>\n",
       "      <td>thanksgiving. True. One big,</td>\n",
       "      <td>Speaker 1</td>\n",
       "      <td>105.0</td>\n",
       "    </tr>\n",
       "    <tr>\n",
       "      <th>15500</th>\n",
       "      <td>01:47:24</td>\n",
       "      <td>huge George. Your</td>\n",
       "      <td>Speaker 2</td>\n",
       "      <td>105.0</td>\n",
       "    </tr>\n",
       "    <tr>\n",
       "      <th>15501</th>\n",
       "      <td>01:47:33</td>\n",
       "      <td>your</td>\n",
       "      <td>Speaker 3</td>\n",
       "      <td>105.0</td>\n",
       "    </tr>\n",
       "    <tr>\n",
       "      <th>15502</th>\n",
       "      <td>01:47:34</td>\n",
       "      <td>we need to get murky.</td>\n",
       "      <td>Speaker 2</td>\n",
       "      <td>105.0</td>\n",
       "    </tr>\n",
       "  </tbody>\n",
       "</table>\n",
       "<p>30692 rows × 4 columns</p>\n",
       "</div>"
      ],
      "text/plain": [
       "           time                                               text    speaker  \\\n",
       "26890  00:00:00     Hey everybody, welcome to the first episode of  Speaker 2   \n",
       "26891  00:00:03                                 the all in podcast  Speaker 1   \n",
       "26892  00:00:04             with college and Jason Calacanis, that  Speaker 2   \n",
       "26893  00:00:09  calculator where we're trying to save ourselve...  Speaker 1   \n",
       "26894  00:00:15  It is literally, you know, we thought we'd sta...  Speaker 2   \n",
       "...         ...                                                ...        ...   \n",
       "15498  01:46:40  gonna be fun. I am the world's greatest modera...  Speaker 2   \n",
       "15499  01:46:49                       thanksgiving. True. One big,  Speaker 1   \n",
       "15500  01:47:24                                  huge George. Your  Speaker 2   \n",
       "15501  01:47:33                                               your  Speaker 3   \n",
       "15502  01:47:34                              we need to get murky.  Speaker 2   \n",
       "\n",
       "       episode  \n",
       "26890      0.0  \n",
       "26891      0.0  \n",
       "26892      0.0  \n",
       "26893      0.0  \n",
       "26894      0.0  \n",
       "...        ...  \n",
       "15498    105.0  \n",
       "15499    105.0  \n",
       "15500    105.0  \n",
       "15501    105.0  \n",
       "15502    105.0  \n",
       "\n",
       "[30692 rows x 4 columns]"
      ]
     },
     "execution_count": 6,
     "metadata": {},
     "output_type": "execute_result"
    }
   ],
   "source": [
    "data = pd.concat(arr).reset_index(drop=True)\n",
    "data['episode'] = data['episode'].apply(lambda x : float(x.split('/')[-1].split('_')[0].replace('E','')))\n",
    "data = data.sort_values(by=['episode','time'])\n",
    "data"
   ]
  },
  {
   "cell_type": "code",
   "execution_count": null,
   "id": "7327ef56-6586-4a13-95b8-6f06529c63a0",
   "metadata": {},
   "outputs": [],
   "source": []
  }
 ],
 "metadata": {
  "kernelspec": {
   "display_name": "Python 3 (ipykernel)",
   "language": "python",
   "name": "python3"
  },
  "language_info": {
   "codemirror_mode": {
    "name": "ipython",
    "version": 3
   },
   "file_extension": ".py",
   "mimetype": "text/x-python",
   "name": "python",
   "nbconvert_exporter": "python",
   "pygments_lexer": "ipython3",
   "version": "3.7.15"
  }
 },
 "nbformat": 4,
 "nbformat_minor": 5
}
